{
 "cells": [
  {
   "cell_type": "code",
   "execution_count": 3,
   "metadata": {},
   "outputs": [],
   "source": [
    "import torch\n",
    "from utils.aihub_kpop_dataset import KpopImageDatasetwT\n",
    "from torch.utils.data import DataLoader\n",
    "\n",
    "device = 'cuda' if torch.cuda.is_available() else 'cpu'\n",
    "print(device)\n",
    "\n",
    "dataset = KpopImageDatasetwT()\n",
    "dataloader = DataLoader(dataset=dataset, batch_size=16, shuffle=False)"
   ]
  },
  {
   "cell_type": "code",
   "execution_count": 4,
   "metadata": {},
   "outputs": [
    {
     "name": "stdout",
     "output_type": "stream",
     "text": [
      "torch.Size([16, 3, 256, 256]) torch.Size([16, 29, 2])\n"
     ]
    }
   ],
   "source": [
    "for (X_train, y_train) in dataloader:\n",
    "    print(X_train.shape, y_train.shape)\n",
    "    break"
   ]
  },
  {
   "cell_type": "code",
   "execution_count": 5,
   "metadata": {},
   "outputs": [],
   "source": [
    "from model import PoseHRNet\n",
    "mymodel = PoseHRNet(backbone='w32', num_joints=29)"
   ]
  }
 ],
 "metadata": {
  "interpreter": {
   "hash": "225cc041b2b0c21642beb0b77dedaf63939f05161513fcd90c79feed5aec405d"
  },
  "kernelspec": {
   "display_name": "Python 3.10.4 ('torch_metal')",
   "language": "python",
   "name": "python3"
  },
  "language_info": {
   "codemirror_mode": {
    "name": "ipython",
    "version": 3
   },
   "file_extension": ".py",
   "mimetype": "text/x-python",
   "name": "python",
   "nbconvert_exporter": "python",
   "pygments_lexer": "ipython3",
   "version": "3.8.13"
  },
  "orig_nbformat": 4
 },
 "nbformat": 4,
 "nbformat_minor": 2
}
