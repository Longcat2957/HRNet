{
 "cells": [
  {
   "cell_type": "code",
   "execution_count": 1,
   "metadata": {},
   "outputs": [],
   "source": [
    "import torch\n",
    "from model import PoseHRNet"
   ]
  }
 ],
 "metadata": {
  "interpreter": {
   "hash": "225cc041b2b0c21642beb0b77dedaf63939f05161513fcd90c79feed5aec405d"
  },
  "kernelspec": {
   "display_name": "Python 3.10.4 ('torch_metal')",
   "language": "python",
   "name": "python3"
  },
  "language_info": {
   "codemirror_mode": {
    "name": "ipython",
    "version": 3
   },
   "file_extension": ".py",
   "mimetype": "text/x-python",
   "name": "python",
   "nbconvert_exporter": "python",
   "pygments_lexer": "ipython3",
   "version": "3.10.4"
  },
  "orig_nbformat": 4
 },
 "nbformat": 4,
 "nbformat_minor": 2
}
