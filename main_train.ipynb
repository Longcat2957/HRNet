{
 "cells": [
  {
   "cell_type": "code",
   "execution_count": 25,
   "metadata": {},
   "outputs": [
    {
     "name": "stdout",
     "output_type": "stream",
     "text": [
      "device ? : cpu\n"
     ]
    }
   ],
   "source": [
    "\n",
    "import torch\n",
    "import math\n",
    "from utils.aihub_kpop_dataset import KpopImageDatasetwT\n",
    "from torch.utils.data import DataLoader\n",
    "from model import PoseHRNet\n",
    "from torch import nn, Tensor\n",
    "from torch.utils.tensorboard import SummaryWriter\n",
    "import tqdm\n",
    "from tqdm import tqdm_notebook\n",
    "\n",
    "writer = SummaryWriter()\n",
    "\n",
    "\n",
    "device = torch.device('cuda' if torch.cuda.is_available() else 'cpu')\n",
    "print('device ? : {}'.format(device))\n",
    "mymodel = PoseHRNet('w32', num_joints=29)\n",
    "mydataset = KpopImageDatasetwT()\n",
    "mydataloader = DataLoader(dataset=mydataset, batch_size=128, shuffle=True)\n",
    "myloss = nn.MSELoss()\n",
    "myoptimizer = torch.optim.Adam(mymodel.parameters(), lr=1e-3)\n"
   ]
  },
  {
   "cell_type": "code",
   "execution_count": 26,
   "metadata": {},
   "outputs": [],
   "source": [
    "def train(dataloader, model, loss_fn, optimizer, save_path):\n",
    "    size = len(dataloader.dataset)\n",
    "    model.train()\n",
    "    \n",
    "    for batch, (X, y) in enumerate(tqdm.tqdm(dataloader)):\n",
    "        X, y = X.to(device), y.to(device)\n",
    "        \n",
    "        pred = model(X)\n",
    "        loss = loss_fn(pred, y)\n",
    "        \n",
    "        optimizer.zero_grad()\n",
    "        loss.backward()\n",
    "        optimizer.step()\n",
    "        \n",
    "        if batch % 32 == 0:\n",
    "            loss, current = loss.item(), batch * len(X)\n",
    "            writer.add_scalar(\"Loss/5Batches\", loss, batch)\n",
    "            print(f\"loss: {loss:>7f}  [{current:>5d}/{size:>5d}]\")\n",
    "            \n",
    "    # after train\n",
    "    if save_path is None:\n",
    "        save_path = 'latest.pth'\n",
    "    torch.save(model, save_path)\n",
    "    # save entire model\n",
    "    "
   ]
  },
  {
   "cell_type": "code",
   "execution_count": 27,
   "metadata": {},
   "outputs": [
    {
     "name": "stderr",
     "output_type": "stream",
     "text": [
      "  0%|          | 0/5 [00:00<?, ?it/s]"
     ]
    },
    {
     "name": "stdout",
     "output_type": "stream",
     "text": [
      "Epoch 1\n",
      "-------------------------------\n"
     ]
    },
    {
     "name": "stderr",
     "output_type": "stream",
     "text": []
    },
    {
     "name": "stdout",
     "output_type": "stream",
     "text": [
      "loss: 120.144257  [    0/ 3447]\n"
     ]
    },
    {
     "name": "stderr",
     "output_type": "stream",
     "text": []
    }
   ],
   "source": [
    "EPOCHS = 5\n",
    "SAVE_PATH = None\n",
    "\n",
    "for t in tqdm.tqdm(range(EPOCHS)):\n",
    "    print(f\"Epoch {t+1}\\n-------------------------------\")\n",
    "    train(mydataloader, mymodel, myloss, myoptimizer, save_path=SAVE_PATH)\n",
    "    # test(mydataloader, model, myloss)\n",
    "print(\"Done!\")\n",
    "\n",
    "writer.flush()"
   ]
  }
 ],
 "metadata": {
  "interpreter": {
   "hash": "1fa4433df2c93caae616e6be88d91eb9580f61b8f46bf34bb1a0b505a5dfe4d4"
  },
  "kernelspec": {
   "display_name": "Python 3.8.13 ('torch_cpu')",
   "language": "python",
   "name": "python3"
  },
  "language_info": {
   "codemirror_mode": {
    "name": "ipython",
    "version": 3
   },
   "file_extension": ".py",
   "mimetype": "text/x-python",
   "name": "python",
   "nbconvert_exporter": "python",
   "pygments_lexer": "ipython3",
   "version": "3.8.13"
  },
  "orig_nbformat": 4
 },
 "nbformat": 4,
 "nbformat_minor": 2
}
